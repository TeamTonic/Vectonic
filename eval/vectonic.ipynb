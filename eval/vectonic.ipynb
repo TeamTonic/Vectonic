{
 "cells": [
  {
   "cell_type": "markdown",
   "metadata": {},
   "source": [
    "### Welcome to the Vectonic Evaluation !\n",
    "\n",
    "here, we're evaluating the various configurations of the `Unstructured.io` `Vectara-Cli` and `Together.ai` pipeline using `tonicai` to see how the available enhancements improve retrieval. Although we're using the vectara-cli these advanced RAG techniques are transferable to other models and other techniques."
   ]
  },
  {
   "cell_type": "code",
   "execution_count": null,
   "metadata": {},
   "outputs": [],
   "source": [
    "!pip install ..."
   ]
  }
 ],
 "metadata": {
  "language_info": {
   "name": "python"
  }
 },
 "nbformat": 4,
 "nbformat_minor": 2
}
