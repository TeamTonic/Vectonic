{
 "cells": [
  {
   "cell_type": "markdown",
   "metadata": {},
   "source": [
    "### Welcome to the Vectonic Evaluation !\n",
    "\n",
    "here, we're evaluating the various configurations of the `Unstructured.io` `Vectara-Cli` and `Together.ai` pipeline using `tonicai` to see how the available enhancements improve retrieval. Although we're using the vectara-cli these advanced RAG techniques are transferable to other models and other techniques."
   ]
  },
  {
   "cell_type": "code",
   "execution_count": 8,
   "metadata": {},
   "outputs": [
    {
     "name": "stdout",
     "output_type": "stream",
     "text": [
      "All modules have been successfully imported and are ready for use.\n"
     ]
    }
   ],
   "source": [
    "import subprocess\n",
    "import sys\n",
    "\n",
    "# Function to handle package installations\n",
    "def install(packages):\n",
    "    for package in packages.split():\n",
    "        subprocess.check_call([sys.executable, \"-m\", \"pip\", \"install\", package])\n",
    "\n",
    "# Preemptively install essential packages\n",
    "install(\"spacy ipywidgets\")\n",
    "\n",
    "# Install vector retrieval and evaluation frameworks\n",
    "packages = \"tonic-validate vectara-cli vectara-cli[rebel_span] llama-index-core llama-index-readers-file \" \\\n",
    "           \"llama-index-llms-together llama-parse python-magic-bin==0.4.14\"\n",
    "install(packages)\n",
    "\n",
    "# Function to safely attempt imports and install if packages are missing\n",
    "def try_import(module_name, from_list):\n",
    "    try:\n",
    "        module = __import__(module_name, fromlist=from_list)\n",
    "        return module\n",
    "    except ImportError:\n",
    "        install(module_name)\n",
    "        module = __import__(module_name, fromlist=from_list)\n",
    "        return module\n",
    "\n",
    "# Importing and initializing Vectara CLI modules safely\n",
    "vectara_cli = try_import(\"vectara_cli\", [\"core\", \"rebel_span.noncommercial.nerdspan\", \"rebel_span.commercial.enterprise\"])\n",
    "VectaraClient = getattr(vectara_cli.core, \"VectaraClient\")\n",
    "Span = getattr(vectara_cli.rebel_span.noncommercial.nerdspan, \"Span\")\n",
    "EnterpriseSpan = getattr(vectara_cli.rebel_span.commercial.enterprise, \"EnterpriseSpan\")\n",
    "\n",
    "try:\n",
    "    import llama_index\n",
    "    from llama_index.core import SimpleDirectoryReader\n",
    "    from llama_index.readers.file import UnstructuredReader\n",
    "    from llama_index.llms.together import TogetherLLM\n",
    "except ImportError:\n",
    "    install(\"llama-index-core\")\n",
    "    install(\"llama-index-readers-file\")\n",
    "    install(\"llama-index-llms-together\")\n",
    "    from llama_index.core import SimpleDirectoryReader\n",
    "    from llama_index.readers.file import UnstructuredReader\n",
    "    from llama_index.llms.together import TogetherLLM\n",
    "# Importing validation and benchmarking tools from tonic-validate\n",
    "tonic_validate = try_import(\"tonic_validate\", [\"ValidateScorer\", \"Benchmark\"])\n",
    "ValidateScorer = getattr(tonic_validate, \"ValidateScorer\")\n",
    "Benchmark = getattr(tonic_validate, \"Benchmark\")\n",
    "\n",
    "# Note to check if all modules are imported correctly\n",
    "print(\"All modules have been successfully imported and are ready for use.\")"
   ]
  },
  {
   "cell_type": "markdown",
   "metadata": {},
   "source": [
    "### Let's Make a Simple RAG Pipeline using the enhanced and non enhanced texts !"
   ]
  },
  {
   "cell_type": "code",
   "execution_count": null,
   "metadata": {},
   "outputs": [],
   "source": []
  }
 ],
 "metadata": {
  "kernelspec": {
   "display_name": "vectara",
   "language": "python",
   "name": "python3"
  },
  "language_info": {
   "codemirror_mode": {
    "name": "ipython",
    "version": 3
   },
   "file_extension": ".py",
   "mimetype": "text/x-python",
   "name": "python",
   "nbconvert_exporter": "python",
   "pygments_lexer": "ipython3",
   "version": "3.12.2"
  }
 },
 "nbformat": 4,
 "nbformat_minor": 2
}
